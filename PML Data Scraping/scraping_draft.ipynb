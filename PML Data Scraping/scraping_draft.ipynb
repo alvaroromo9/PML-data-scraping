{
 "cells": [
  {
   "cell_type": "code",
   "execution_count": 3,
   "metadata": {},
   "outputs": [],
   "source": [
    "import requests\n",
    "from bs4 import BeautifulSoup\n",
    "import pandas as pd"
   ]
  },
  {
   "cell_type": "code",
   "execution_count": null,
   "metadata": {},
   "outputs": [],
   "source": [
    "base_url = 'https://ws01.cenace.gob.mx:8082/SWPML/SIM/'\n",
    "params = {\n",
    "    'sistema'\n",
    "}\n",
    "\n"
   ]
  },
  {
   "cell_type": "code",
   "execution_count": 26,
   "metadata": {},
   "outputs": [],
   "source": [
    "url_eg = 'https://ws01.cenace.gob.mx:8082/SWPML/SIM/SIN/MDA/01PLO-115/2017/11/07/2017/11/07/JSON'\n",
    "response_json = requests.get(url_eg).json()\n"
   ]
  },
  {
   "cell_type": "code",
   "execution_count": 35,
   "metadata": {},
   "outputs": [],
   "source": [
    "data = []\n",
    "for res in response_json['Resultados']:\n",
    "    clv_nodo = res['clv_nodo']\n",
    "    \n",
    "    for valor in res['Valores']:\n",
    "        row = {'clv_nodo': clv_nodo, \n",
    "               'fecha': valor['fecha'], \n",
    "               'hora': valor['hora'], \n",
    "               'pml': valor['pml'], \n",
    "               'pml_ene': valor['pml_ene'], \n",
    "               'pml_per': valor['pml_per'], \n",
    "               'pml_cng': valor['pml_cng']}\n",
    "        data.append(row)\n",
    "df = pd.DataFrame(data)\n"
   ]
  },
  {
   "cell_type": "code",
   "execution_count": 37,
   "metadata": {},
   "outputs": [
    {
     "data": {
      "text/plain": [
       "24"
      ]
     },
     "execution_count": 37,
     "metadata": {},
     "output_type": "execute_result"
    }
   ],
   "source": [
    "len(df)"
   ]
  },
  {
   "cell_type": "code",
   "execution_count": 11,
   "metadata": {},
   "outputs": [
    {
     "data": {
      "text/html": [
       "<div>\n",
       "<style scoped>\n",
       "    .dataframe tbody tr th:only-of-type {\n",
       "        vertical-align: middle;\n",
       "    }\n",
       "\n",
       "    .dataframe tbody tr th {\n",
       "        vertical-align: top;\n",
       "    }\n",
       "\n",
       "    .dataframe thead th {\n",
       "        text-align: right;\n",
       "    }\n",
       "</style>\n",
       "<table border=\"1\" class=\"dataframe\">\n",
       "  <thead>\n",
       "    <tr style=\"text-align: right;\">\n",
       "      <th></th>\n",
       "      <th>nombre</th>\n",
       "      <th>proceso</th>\n",
       "      <th>sistema</th>\n",
       "      <th>area</th>\n",
       "      <th>Resultados</th>\n",
       "      <th>status</th>\n",
       "    </tr>\n",
       "  </thead>\n",
       "  <tbody>\n",
       "    <tr>\n",
       "      <th>0</th>\n",
       "      <td>PML</td>\n",
       "      <td>MDA</td>\n",
       "      <td>SIN</td>\n",
       "      <td>PÚBLICA</td>\n",
       "      <td>{'clv_nodo': '01PLO-115', 'Valores': [{'fecha'...</td>\n",
       "      <td>OK</td>\n",
       "    </tr>\n",
       "  </tbody>\n",
       "</table>\n",
       "</div>"
      ],
      "text/plain": [
       "  nombre proceso sistema     area  \\\n",
       "0    PML     MDA     SIN  PÚBLICA   \n",
       "\n",
       "                                          Resultados status  \n",
       "0  {'clv_nodo': '01PLO-115', 'Valores': [{'fecha'...     OK  "
      ]
     },
     "execution_count": 11,
     "metadata": {},
     "output_type": "execute_result"
    }
   ],
   "source": [
    "df.head()"
   ]
  },
  {
   "cell_type": "code",
   "execution_count": 12,
   "metadata": {},
   "outputs": [
    {
     "data": {
      "text/html": [
       "<div>\n",
       "<style scoped>\n",
       "    .dataframe tbody tr th:only-of-type {\n",
       "        vertical-align: middle;\n",
       "    }\n",
       "\n",
       "    .dataframe tbody tr th {\n",
       "        vertical-align: top;\n",
       "    }\n",
       "\n",
       "    .dataframe thead th {\n",
       "        text-align: right;\n",
       "    }\n",
       "</style>\n",
       "<table border=\"1\" class=\"dataframe\">\n",
       "  <thead>\n",
       "    <tr style=\"text-align: right;\">\n",
       "      <th></th>\n",
       "      <th>nombre</th>\n",
       "      <th>proceso</th>\n",
       "      <th>sistema</th>\n",
       "      <th>area</th>\n",
       "      <th>Resultados</th>\n",
       "      <th>status</th>\n",
       "    </tr>\n",
       "  </thead>\n",
       "  <tbody>\n",
       "    <tr>\n",
       "      <th>0</th>\n",
       "      <td>PML</td>\n",
       "      <td>MDA</td>\n",
       "      <td>SIN</td>\n",
       "      <td>PÚBLICA</td>\n",
       "      <td>{'clv_nodo': '01PLO-115', 'Valores': [{'fecha'...</td>\n",
       "      <td>OK</td>\n",
       "    </tr>\n",
       "  </tbody>\n",
       "</table>\n",
       "</div>"
      ],
      "text/plain": [
       "  nombre proceso sistema     area  \\\n",
       "0    PML     MDA     SIN  PÚBLICA   \n",
       "\n",
       "                                          Resultados status  \n",
       "0  {'clv_nodo': '01PLO-115', 'Valores': [{'fecha'...     OK  "
      ]
     },
     "execution_count": 12,
     "metadata": {},
     "output_type": "execute_result"
    }
   ],
   "source": [
    "df"
   ]
  },
  {
   "cell_type": "code",
   "execution_count": 13,
   "metadata": {},
   "outputs": [
    {
     "data": {
      "text/plain": [
       "{'nombre': 'PML',\n",
       " 'proceso': 'MDA',\n",
       " 'sistema': 'SIN',\n",
       " 'area': 'PÚBLICA',\n",
       " 'Resultados': [{'clv_nodo': '01PLO-115',\n",
       "   'Valores': [{'fecha': '2017-11-07',\n",
       "     'hora': '1',\n",
       "     'pml': '1177.12',\n",
       "     'pml_ene': '1109.73',\n",
       "     'pml_per': '69.65',\n",
       "     'pml_cng': '-2.27'},\n",
       "    {'fecha': '2017-11-07',\n",
       "     'hora': '2',\n",
       "     'pml': '1005.79',\n",
       "     'pml_ene': '947.64',\n",
       "     'pml_per': '59.13',\n",
       "     'pml_cng': '-0.98'},\n",
       "    {'fecha': '2017-11-07',\n",
       "     'hora': '3',\n",
       "     'pml': '942.56',\n",
       "     'pml_ene': '886.02',\n",
       "     'pml_per': '56.78',\n",
       "     'pml_cng': '-0.24'},\n",
       "    {'fecha': '2017-11-07',\n",
       "     'hora': '4',\n",
       "     'pml': '875.2',\n",
       "     'pml_ene': '822.18',\n",
       "     'pml_per': '52.92',\n",
       "     'pml_cng': '0.1'},\n",
       "    {'fecha': '2017-11-07',\n",
       "     'hora': '5',\n",
       "     'pml': '877.47',\n",
       "     'pml_ene': '822.33',\n",
       "     'pml_per': '55',\n",
       "     'pml_cng': '0.14'},\n",
       "    {'fecha': '2017-11-07',\n",
       "     'hora': '6',\n",
       "     'pml': '978.23',\n",
       "     'pml_ene': '918.75',\n",
       "     'pml_per': '59.98',\n",
       "     'pml_cng': '-0.51'},\n",
       "    {'fecha': '2017-11-07',\n",
       "     'hora': '7',\n",
       "     'pml': '1277.05',\n",
       "     'pml_ene': '1205.27',\n",
       "     'pml_per': '75.52',\n",
       "     'pml_cng': '-3.73'},\n",
       "    {'fecha': '2017-11-07',\n",
       "     'hora': '8',\n",
       "     'pml': '1714.12',\n",
       "     'pml_ene': '1611.8',\n",
       "     'pml_per': '101.51',\n",
       "     'pml_cng': '0.82'},\n",
       "    {'fecha': '2017-11-07',\n",
       "     'hora': '9',\n",
       "     'pml': '2516.26',\n",
       "     'pml_ene': '2381.05',\n",
       "     'pml_per': '134.06',\n",
       "     'pml_cng': '1.14'},\n",
       "    {'fecha': '2017-11-07',\n",
       "     'hora': '10',\n",
       "     'pml': '2505.58',\n",
       "     'pml_ene': '2378.01',\n",
       "     'pml_per': '127.57',\n",
       "     'pml_cng': '0'},\n",
       "    {'fecha': '2017-11-07',\n",
       "     'hora': '11',\n",
       "     'pml': '3163.35',\n",
       "     'pml_ene': '3014.95',\n",
       "     'pml_per': '148.41',\n",
       "     'pml_cng': '0'},\n",
       "    {'fecha': '2017-11-07',\n",
       "     'hora': '12',\n",
       "     'pml': '3194.58',\n",
       "     'pml_ene': '3052.58',\n",
       "     'pml_per': '142',\n",
       "     'pml_cng': '0'},\n",
       "    {'fecha': '2017-11-07',\n",
       "     'hora': '13',\n",
       "     'pml': '2952.92',\n",
       "     'pml_ene': '2818.69',\n",
       "     'pml_per': '134.23',\n",
       "     'pml_cng': '0'},\n",
       "    {'fecha': '2017-11-07',\n",
       "     'hora': '14',\n",
       "     'pml': '2953.29',\n",
       "     'pml_ene': '2818.9',\n",
       "     'pml_per': '134.4',\n",
       "     'pml_cng': '0'},\n",
       "    {'fecha': '2017-11-07',\n",
       "     'hora': '15',\n",
       "     'pml': '3184.92',\n",
       "     'pml_ene': '3041.41',\n",
       "     'pml_per': '143.51',\n",
       "     'pml_cng': '0'},\n",
       "    {'fecha': '2017-11-07',\n",
       "     'hora': '16',\n",
       "     'pml': '3236.64',\n",
       "     'pml_ene': '3086.07',\n",
       "     'pml_per': '150.56',\n",
       "     'pml_cng': '0'},\n",
       "    {'fecha': '2017-11-07',\n",
       "     'hora': '17',\n",
       "     'pml': '2863.33',\n",
       "     'pml_ene': '2719.85',\n",
       "     'pml_per': '143.11',\n",
       "     'pml_cng': '0.36'},\n",
       "    {'fecha': '2017-11-07',\n",
       "     'hora': '18',\n",
       "     'pml': '2753.1',\n",
       "     'pml_ene': '2608.44',\n",
       "     'pml_per': '144.11',\n",
       "     'pml_cng': '0.56'},\n",
       "    {'fecha': '2017-11-07',\n",
       "     'hora': '19',\n",
       "     'pml': '3141.18',\n",
       "     'pml_ene': '2950.37',\n",
       "     'pml_per': '190.81',\n",
       "     'pml_cng': '0'},\n",
       "    {'fecha': '2017-11-07',\n",
       "     'hora': '20',\n",
       "     'pml': '2973.57',\n",
       "     'pml_ene': '2779.21',\n",
       "     'pml_per': '194.07',\n",
       "     'pml_cng': '0.29'},\n",
       "    {'fecha': '2017-11-07',\n",
       "     'hora': '21',\n",
       "     'pml': '3027.56',\n",
       "     'pml_ene': '2820.16',\n",
       "     'pml_per': '207.07',\n",
       "     'pml_cng': '0.33'},\n",
       "    {'fecha': '2017-11-07',\n",
       "     'hora': '22',\n",
       "     'pml': '2837.72',\n",
       "     'pml_ene': '2653.67',\n",
       "     'pml_per': '183',\n",
       "     'pml_cng': '1.04'},\n",
       "    {'fecha': '2017-11-07',\n",
       "     'hora': '23',\n",
       "     'pml': '2465.99',\n",
       "     'pml_ene': '2304.76',\n",
       "     'pml_per': '160.23',\n",
       "     'pml_cng': '1'},\n",
       "    {'fecha': '2017-11-07',\n",
       "     'hora': '24',\n",
       "     'pml': '1576.61',\n",
       "     'pml_ene': '1473.12',\n",
       "     'pml_per': '102.83',\n",
       "     'pml_cng': '0.66'}]}],\n",
       " 'status': 'OK'}"
      ]
     },
     "execution_count": 13,
     "metadata": {},
     "output_type": "execute_result"
    }
   ],
   "source": [
    "data"
   ]
  },
  {
   "cell_type": "code",
   "execution_count": null,
   "metadata": {},
   "outputs": [],
   "source": []
  }
 ],
 "metadata": {
  "kernelspec": {
   "display_name": "Python 3",
   "language": "python",
   "name": "python3"
  },
  "language_info": {
   "codemirror_mode": {
    "name": "ipython",
    "version": 3
   },
   "file_extension": ".py",
   "mimetype": "text/x-python",
   "name": "python",
   "nbconvert_exporter": "python",
   "pygments_lexer": "ipython3",
   "version": "3.12.4"
  }
 },
 "nbformat": 4,
 "nbformat_minor": 2
}
